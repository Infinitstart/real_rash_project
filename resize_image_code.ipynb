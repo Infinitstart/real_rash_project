{
 "cells": [
  {
   "cell_type": "markdown",
   "metadata": {},
   "source": [
    "# Importing Libraries"
   ]
  },
  {
   "cell_type": "code",
   "execution_count": 1,
   "metadata": {},
   "outputs": [],
   "source": [
    "from PIL import Image\n",
    "import glob"
   ]
  },
  {
   "cell_type": "markdown",
   "metadata": {},
   "source": [
    "# Folder Path"
   ]
  },
  {
   "cell_type": "code",
   "execution_count": 2,
   "metadata": {},
   "outputs": [],
   "source": [
    "original_image = '/Users/filmer2002/Desktop/real_rash_project/origin_images/Contact_Dermatitis/*.jpg'\n",
    "\n",
    "new_resized_image = '/Users/filmer2002/Desktop/real_rash_project/resized_images/Contact_Dermatitis/'"
   ]
  },
  {
   "cell_type": "code",
   "execution_count": 3,
   "metadata": {},
   "outputs": [],
   "source": [
    "extension = '.jpg'"
   ]
  },
  {
   "cell_type": "markdown",
   "metadata": {},
   "source": [
    "# Resized Images"
   ]
  },
  {
   "cell_type": "code",
   "execution_count": 4,
   "metadata": {},
   "outputs": [],
   "source": [
    "resized_image = []"
   ]
  },
  {
   "cell_type": "code",
   "execution_count": 5,
   "metadata": {
    "scrolled": true
   },
   "outputs": [
    {
     "name": "stdout",
     "output_type": "stream",
     "text": [
      "/Users/filmer2002/Desktop/real_rash_project/origin_images/Contact_Dermatitis/CD07.jpg\n",
      "/Users/filmer2002/Desktop/real_rash_project/origin_images/Contact_Dermatitis/CD13.jpg\n",
      "/Users/filmer2002/Desktop/real_rash_project/origin_images/Contact_Dermatitis/CD12.jpg\n",
      "/Users/filmer2002/Desktop/real_rash_project/origin_images/Contact_Dermatitis/CD06.jpg\n",
      "/Users/filmer2002/Desktop/real_rash_project/origin_images/Contact_Dermatitis/CD04.jpg\n",
      "/Users/filmer2002/Desktop/real_rash_project/origin_images/Contact_Dermatitis/CD39.jpg\n",
      "/Users/filmer2002/Desktop/real_rash_project/origin_images/Contact_Dermatitis/CD05.jpg\n",
      "/Users/filmer2002/Desktop/real_rash_project/origin_images/Contact_Dermatitis/CD11.jpg\n",
      "/Users/filmer2002/Desktop/real_rash_project/origin_images/Contact_Dermatitis/CD29.jpg\n",
      "/Users/filmer2002/Desktop/real_rash_project/origin_images/Contact_Dermatitis/CD01.jpg\n",
      "/Users/filmer2002/Desktop/real_rash_project/origin_images/Contact_Dermatitis/CD02.jpg\n",
      "/Users/filmer2002/Desktop/real_rash_project/origin_images/Contact_Dermatitis/CD17.jpg\n",
      "/Users/filmer2002/Desktop/real_rash_project/origin_images/Contact_Dermatitis/CD03.jpg\n",
      "/Users/filmer2002/Desktop/real_rash_project/origin_images/Contact_Dermatitis/CD26.jpg\n",
      "/Users/filmer2002/Desktop/real_rash_project/origin_images/Contact_Dermatitis/CD32.jpg\n",
      "/Users/filmer2002/Desktop/real_rash_project/origin_images/Contact_Dermatitis/CD33.jpg\n",
      "/Users/filmer2002/Desktop/real_rash_project/origin_images/Contact_Dermatitis/CD27.jpg\n",
      "/Users/filmer2002/Desktop/real_rash_project/origin_images/Contact_Dermatitis/CD31.jpg\n",
      "/Users/filmer2002/Desktop/real_rash_project/origin_images/Contact_Dermatitis/CD25.jpg\n",
      "/Users/filmer2002/Desktop/real_rash_project/origin_images/Contact_Dermatitis/CD19.jpg\n",
      "/Users/filmer2002/Desktop/real_rash_project/origin_images/Contact_Dermatitis/CD24.jpg\n",
      "/Users/filmer2002/Desktop/real_rash_project/origin_images/Contact_Dermatitis/CD30.jpg\n",
      "/Users/filmer2002/Desktop/real_rash_project/origin_images/Contact_Dermatitis/CD08.jpg\n",
      "/Users/filmer2002/Desktop/real_rash_project/origin_images/Contact_Dermatitis/CD34.jpg\n",
      "/Users/filmer2002/Desktop/real_rash_project/origin_images/Contact_Dermatitis/CD20.jpg\n",
      "/Users/filmer2002/Desktop/real_rash_project/origin_images/Contact_Dermatitis/CD21.jpg\n",
      "/Users/filmer2002/Desktop/real_rash_project/origin_images/Contact_Dermatitis/CD35.jpg\n",
      "/Users/filmer2002/Desktop/real_rash_project/origin_images/Contact_Dermatitis/CD09.jpg\n",
      "/Users/filmer2002/Desktop/real_rash_project/origin_images/Contact_Dermatitis/CD23.jpg\n",
      "/Users/filmer2002/Desktop/real_rash_project/origin_images/Contact_Dermatitis/CD37.jpg\n",
      "/Users/filmer2002/Desktop/real_rash_project/origin_images/Contact_Dermatitis/CD36.jpg\n",
      "/Users/filmer2002/Desktop/real_rash_project/origin_images/Contact_Dermatitis/CD22.jpg\n",
      "/Users/filmer2002/Desktop/real_rash_project/origin_images/Contact_Dermatitis/CD40.jpg\n",
      "/Users/filmer2002/Desktop/real_rash_project/origin_images/Contact_Dermatitis/CD41.jpg\n"
     ]
    }
   ],
   "source": [
    "for files in glob.glob(original_image):\n",
    "    print(files)\n",
    "    image = Image.open(files)\n",
    "    image = image.resize((128, 128))\n",
    "    resized_image.append(image)"
   ]
  },
  {
   "cell_type": "markdown",
   "metadata": {},
   "source": [
    "# Save Images"
   ]
  },
  {
   "cell_type": "code",
   "execution_count": 6,
   "metadata": {},
   "outputs": [
    {
     "name": "stdout",
     "output_type": "stream",
     "text": [
      "(128, 128)\n",
      "(128, 128)\n",
      "(128, 128)\n",
      "(128, 128)\n",
      "(128, 128)\n",
      "(128, 128)\n",
      "(128, 128)\n",
      "(128, 128)\n",
      "(128, 128)\n",
      "(128, 128)\n",
      "(128, 128)\n",
      "(128, 128)\n",
      "(128, 128)\n",
      "(128, 128)\n",
      "(128, 128)\n",
      "(128, 128)\n",
      "(128, 128)\n",
      "(128, 128)\n",
      "(128, 128)\n",
      "(128, 128)\n",
      "(128, 128)\n",
      "(128, 128)\n",
      "(128, 128)\n",
      "(128, 128)\n",
      "(128, 128)\n",
      "(128, 128)\n",
      "(128, 128)\n",
      "(128, 128)\n",
      "(128, 128)\n",
      "(128, 128)\n",
      "(128, 128)\n",
      "(128, 128)\n",
      "(128, 128)\n",
      "(128, 128)\n"
     ]
    }
   ],
   "source": [
    "for files in resized_image:\n",
    "    #files.show()\n",
    "    print(files.size)"
   ]
  },
  {
   "cell_type": "code",
   "execution_count": 7,
   "metadata": {},
   "outputs": [
    {
     "name": "stdout",
     "output_type": "stream",
     "text": [
      "(128, 128)\n",
      "(128, 128)\n",
      "(128, 128)\n",
      "(128, 128)\n",
      "(128, 128)\n",
      "(128, 128)\n",
      "(128, 128)\n",
      "(128, 128)\n",
      "(128, 128)\n",
      "(128, 128)\n",
      "(128, 128)\n",
      "(128, 128)\n",
      "(128, 128)\n",
      "(128, 128)\n",
      "(128, 128)\n",
      "(128, 128)\n",
      "(128, 128)\n",
      "(128, 128)\n",
      "(128, 128)\n",
      "(128, 128)\n",
      "(128, 128)\n",
      "(128, 128)\n",
      "(128, 128)\n",
      "(128, 128)\n",
      "(128, 128)\n",
      "(128, 128)\n",
      "(128, 128)\n",
      "(128, 128)\n",
      "(128, 128)\n",
      "(128, 128)\n",
      "(128, 128)\n",
      "(128, 128)\n",
      "(128, 128)\n",
      "(128, 128)\n"
     ]
    }
   ],
   "source": [
    "for (files, new_image) in enumerate(resized_image):\n",
    "    new_image.save('{}{}{}{}'.format(new_resized_image, 'CD',files+1, extension))\n",
    "    print(new_image.size)"
   ]
  }
 ],
 "metadata": {
  "kernelspec": {
   "display_name": "Python 3",
   "language": "python",
   "name": "python3"
  },
  "language_info": {
   "codemirror_mode": {
    "name": "ipython",
    "version": 3
   },
   "file_extension": ".py",
   "mimetype": "text/x-python",
   "name": "python",
   "nbconvert_exporter": "python",
   "pygments_lexer": "ipython3",
   "version": "3.7.3"
  }
 },
 "nbformat": 4,
 "nbformat_minor": 2
}
