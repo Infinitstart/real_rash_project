{
 "cells": [
  {
   "cell_type": "markdown",
   "metadata": {},
   "source": [
    "# Importing Libraries "
   ]
  },
  {
   "cell_type": "code",
   "execution_count": 1,
   "metadata": {},
   "outputs": [],
   "source": [
    "import Augmentor"
   ]
  },
  {
   "cell_type": "markdown",
   "metadata": {},
   "source": [
    "# Folder Path"
   ]
  },
  {
   "cell_type": "code",
   "execution_count": 2,
   "metadata": {},
   "outputs": [
    {
     "name": "stdout",
     "output_type": "stream",
     "text": [
      "Initialised with 34 image(s) found.\n",
      "Output directory set to /Users/filmer2002/Desktop/real_rash_project/resized_images/Contact_Dermatitis/output."
     ]
    }
   ],
   "source": [
    "original_path = Augmentor.Pipeline('/Users/filmer2002/Desktop/real_rash_project/resized_images/Contact_Dermatitis')"
   ]
  },
  {
   "cell_type": "markdown",
   "metadata": {},
   "source": [
    "# Image Dataset Augmentation"
   ]
  },
  {
   "cell_type": "code",
   "execution_count": 3,
   "metadata": {},
   "outputs": [],
   "source": [
    "original_path.rotate(probability=0.7, max_left_rotation=25, max_right_rotation=25)\n",
    "original_path.zoom(probability=0.5, min_factor=1.1, max_factor=1.5)\n",
    "original_path.flip_left_right(probability=0.7)\n",
    "original_path.flip_top_bottom(probability=0.7)\n",
    "original_path.flip_random(probability=1.0)"
   ]
  },
  {
   "cell_type": "markdown",
   "metadata": {},
   "source": [
    "# See The Augmentation Status"
   ]
  },
  {
   "cell_type": "code",
   "execution_count": 4,
   "metadata": {},
   "outputs": [
    {
     "name": "stdout",
     "output_type": "stream",
     "text": [
      "Operations: 5\n",
      "\t0: RotateRange (probability=0.7 max_left_rotation=-25 max_right_rotation=25 )\n",
      "\t1: Zoom (probability=0.5 min_factor=1.1 max_factor=1.5 )\n",
      "\t2: Flip (probability=0.7 top_bottom_left_right=LEFT_RIGHT )\n",
      "\t3: Flip (probability=0.7 top_bottom_left_right=TOP_BOTTOM )\n",
      "\t4: Flip (probability=1.0 top_bottom_left_right=RANDOM )\n",
      "Images: 34\n",
      "Classes: 1\n",
      "\tClass index: 0 Class label: Contact_Dermatitis \n",
      "Dimensions: 1\n",
      "\tWidth: 128 Height: 128\n",
      "Formats: 1\n",
      "\t JPEG\n",
      "\n",
      "You can remove operations using the appropriate index and the remove_operation(index) function.\n"
     ]
    }
   ],
   "source": [
    "original_path.status()"
   ]
  },
  {
   "cell_type": "markdown",
   "metadata": {},
   "source": [
    "# Specify The Number Of Augmented Images"
   ]
  },
  {
   "cell_type": "code",
   "execution_count": 5,
   "metadata": {},
   "outputs": [
    {
     "name": "stderr",
     "output_type": "stream",
     "text": [
      "Processing <PIL.Image.Image image mode=RGB size=128x128 at 0x110FA1048>: 100%|██████████| 200/200 [00:01<00:00, 150.53 Samples/s]\n"
     ]
    }
   ],
   "source": [
    "original_path.sample(200)"
   ]
  },
  {
   "cell_type": "markdown",
   "metadata": {},
   "source": [
    "# See The Process "
   ]
  },
  {
   "cell_type": "code",
   "execution_count": 6,
   "metadata": {},
   "outputs": [
    {
     "name": "stderr",
     "output_type": "stream",
     "text": [
      "Processing <PIL.Image.Image image mode=RGB size=128x128 at 0x110FADA90>: 100%|██████████| 34/34 [00:00<00:00, 168.71 Samples/s]\n"
     ]
    }
   ],
   "source": [
    "original_path.process()"
   ]
  }
 ],
 "metadata": {
  "kernelspec": {
   "display_name": "Python 3",
   "language": "python",
   "name": "python3"
  },
  "language_info": {
   "codemirror_mode": {
    "name": "ipython",
    "version": 3
   },
   "file_extension": ".py",
   "mimetype": "text/x-python",
   "name": "python",
   "nbconvert_exporter": "python",
   "pygments_lexer": "ipython3",
   "version": "3.7.3"
  }
 },
 "nbformat": 4,
 "nbformat_minor": 2
}
